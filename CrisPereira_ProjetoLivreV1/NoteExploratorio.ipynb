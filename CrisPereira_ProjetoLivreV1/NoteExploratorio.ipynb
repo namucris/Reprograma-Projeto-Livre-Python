{
 "cells": [
  {
   "cell_type": "markdown",
   "metadata": {},
   "source": [
    "# Cooperação Internacional para o desenvolvimento do Complexo Econômico-Industrial Brasileiro\n",
    "<p>Projeto Livre Reprograma curso Análise de Dados com Python </p>\n",
    "<p>Aluna Cristiane Pereira</p>"
   ]
  },
  {
   "cell_type": "markdown",
   "metadata": {},
   "source": [
    "<p><b>Introdução</b></p>\n",
    "<p>Nesse notebook iremos mesclar e tratar as informações do CSV que será utilizado para responder as questões principais do projeto e gerar as primeiras visualizações.</p>\n",
    "Perguntas e hipóteses exploratórias:\n",
    "<ul>\n",
    "<li>Quais são as condições da balança comercial em produtos de saúde para os países de interesse do estudo? Brasil, África do Sul, Índia, Argentina e México.</li>\n",
    "<li>Quais produtos são importados/exportados por cada país?</li>\n",
    "<li>Qual é a capacidade produtiva de IFA (Ingrediente Farmacêutico Ativo) de cada país?</li>\n",
    "</ul>"
   ]
  },
  {
   "cell_type": "markdown",
   "metadata": {},
   "source": [
    "<b>Importando os dados</b>"
   ]
  },
  {
   "cell_type": "code",
   "execution_count": 9,
   "metadata": {},
   "outputs": [],
   "source": [
    "import pandas as pd"
   ]
  },
  {
   "cell_type": "code",
   "execution_count": 10,
   "metadata": {},
   "outputs": [],
   "source": [
    "# Importando as bases de dados\n",
    "df_Brazil_exports = pd.read_csv(\"Brazil-Pharmaceuticals-Exports.csv\")\n",
    "df_Brazil_imports = pd.read_csv(\"Brazil-Pharmaceuticals-Imports.csv\")\n",
    "df_Pharmaceutical_data = pd.read_csv(\"Pharmaceuticals-International-Trade-_parcial-data_.csv\")"
   ]
  },
  {
   "cell_type": "code",
   "execution_count": 11,
   "metadata": {},
   "outputs": [
    {
     "data": {
      "text/plain": [
       "Index(['DESCRIPTION', 'COUNTRY', 'VALUE', 'YEAR', 'PARTNER', 'SOURCE'], dtype='object')"
      ]
     },
     "execution_count": 11,
     "metadata": {},
     "output_type": "execute_result"
    }
   ],
   "source": [
    "# Agora pretendo estudar como mesclar as bases de dados e preparar as colunas para as operações que desejo fazer\n",
    "df_Pharmaceutical_data.columns"
   ]
  },
  {
   "cell_type": "markdown",
   "metadata": {},
   "source": [
    "<b>Tratando os dados e dataframe final</b>"
   ]
  },
  {
   "cell_type": "code",
   "execution_count": 12,
   "metadata": {},
   "outputs": [],
   "source": [
    "# Vou converter a coluna value para Float e a Year para datetime\n",
    "# A conversão inicialmente deu errado, porque tem um dado incorreto na primeira linha do dataframe, vou substituí-lo, antes de converter\n",
    "df_Pharmaceutical_data.iat[0,2] = \"0.667\"\n"
   ]
  },
  {
   "cell_type": "code",
   "execution_count": 13,
   "metadata": {},
   "outputs": [
    {
     "data": {
      "text/html": [
       "<div>\n",
       "<style scoped>\n",
       "    .dataframe tbody tr th:only-of-type {\n",
       "        vertical-align: middle;\n",
       "    }\n",
       "\n",
       "    .dataframe tbody tr th {\n",
       "        vertical-align: top;\n",
       "    }\n",
       "\n",
       "    .dataframe thead th {\n",
       "        text-align: right;\n",
       "    }\n",
       "</style>\n",
       "<table border=\"1\" class=\"dataframe\">\n",
       "  <thead>\n",
       "    <tr style=\"text-align: right;\">\n",
       "      <th></th>\n",
       "      <th>DESCRIPTION</th>\n",
       "      <th>COUNTRY</th>\n",
       "      <th>VALUE</th>\n",
       "      <th>YEAR</th>\n",
       "      <th>PARTNER</th>\n",
       "      <th>SOURCE</th>\n",
       "    </tr>\n",
       "  </thead>\n",
       "  <tbody>\n",
       "    <tr>\n",
       "      <th>0</th>\n",
       "      <td>Urine bags imports (USD million)</td>\n",
       "      <td>South Africa, Eswatini and Kenya</td>\n",
       "      <td>0.667</td>\n",
       "      <td>2020.0</td>\n",
       "      <td>NaN</td>\n",
       "      <td>Medical Industries in Africa - A regional resp...</td>\n",
       "    </tr>\n",
       "    <tr>\n",
       "      <th>1</th>\n",
       "      <td>Imports medical technology %</td>\n",
       "      <td>South Africa</td>\n",
       "      <td>0.9</td>\n",
       "      <td>2018.0</td>\n",
       "      <td>NaN</td>\n",
       "      <td>Overview of the health technology sector in So...</td>\n",
       "    </tr>\n",
       "    <tr>\n",
       "      <th>2</th>\n",
       "      <td>Medical technological market (Rand billion)</td>\n",
       "      <td>South Africa</td>\n",
       "      <td>350</td>\n",
       "      <td>2018.0</td>\n",
       "      <td>NaN</td>\n",
       "      <td>Overview of the health technology sector in So...</td>\n",
       "    </tr>\n",
       "    <tr>\n",
       "      <th>3</th>\n",
       "      <td>Medical technological market (Euros billion)</td>\n",
       "      <td>South Africa</td>\n",
       "      <td>22</td>\n",
       "      <td>2018.0</td>\n",
       "      <td>NaN</td>\n",
       "      <td>Overview of the health technology sector in So...</td>\n",
       "    </tr>\n",
       "    <tr>\n",
       "      <th>4</th>\n",
       "      <td>Imports medical technology (Rand billion)</td>\n",
       "      <td>South Africa</td>\n",
       "      <td>317</td>\n",
       "      <td>2018.0</td>\n",
       "      <td>NaN</td>\n",
       "      <td>Overview of the health technology sector in So...</td>\n",
       "    </tr>\n",
       "  </tbody>\n",
       "</table>\n",
       "</div>"
      ],
      "text/plain": [
       "                                    DESCRIPTION  \\\n",
       "0              Urine bags imports (USD million)   \n",
       "1                  Imports medical technology %   \n",
       "2  Medical technological market (Rand billion)    \n",
       "3  Medical technological market (Euros billion)   \n",
       "4     Imports medical technology (Rand billion)   \n",
       "\n",
       "                            COUNTRY  VALUE    YEAR PARTNER  \\\n",
       "0  South Africa, Eswatini and Kenya  0.667  2020.0     NaN   \n",
       "1                      South Africa    0.9  2018.0     NaN   \n",
       "2                      South Africa    350  2018.0     NaN   \n",
       "3                      South Africa     22  2018.0     NaN   \n",
       "4                      South Africa    317  2018.0     NaN   \n",
       "\n",
       "                                              SOURCE  \n",
       "0  Medical Industries in Africa - A regional resp...  \n",
       "1  Overview of the health technology sector in So...  \n",
       "2  Overview of the health technology sector in So...  \n",
       "3  Overview of the health technology sector in So...  \n",
       "4  Overview of the health technology sector in So...  "
      ]
     },
     "execution_count": 13,
     "metadata": {},
     "output_type": "execute_result"
    }
   ],
   "source": [
    "#Verificando a alteração\n",
    "df_Pharmaceutical_data.head(5)"
   ]
  },
  {
   "cell_type": "code",
   "execution_count": 14,
   "metadata": {},
   "outputs": [],
   "source": [
    "# Deu um erro na conversão por causa de valores com vígula, ao invés de pontos, então voltei para substituir o caracter nas strings\n",
    "df_Pharmaceutical_data['VALUE'] = df_Pharmaceutical_data['VALUE'].str.replace(',','.')"
   ]
  },
  {
   "cell_type": "code",
   "execution_count": 15,
   "metadata": {},
   "outputs": [],
   "source": [
    "# Finalmente, a conversão para float\n",
    "df_Pharmaceutical_data[\"VALUE\"] = df_Pharmaceutical_data[\"VALUE\"].astype(float)"
   ]
  },
  {
   "cell_type": "code",
   "execution_count": 16,
   "metadata": {},
   "outputs": [],
   "source": [
    "# Próximo passo, a conversão para datetime da coluna Year\n",
    "from datetime import datetime\n",
    "df_Pharmaceutical_data[\"YEAR\"] = pd.to_datetime(df_Pharmaceutical_data[\"YEAR\"])"
   ]
  },
  {
   "cell_type": "code",
   "execution_count": 17,
   "metadata": {},
   "outputs": [
    {
     "data": {
      "text/plain": [
       "Index(['Segmentos', 'Type', 'Year', 'Total exports million USD',\n",
       "       'Main exports destiny', 'Value exports main partner',\n",
       "       'Partner share (%)'],\n",
       "      dtype='object')"
      ]
     },
     "execution_count": 17,
     "metadata": {},
     "output_type": "execute_result"
    }
   ],
   "source": [
    "# Agora vou explorar os demais dataframes\n",
    "df_Brazil_exports.columns"
   ]
  },
  {
   "cell_type": "code",
   "execution_count": 18,
   "metadata": {},
   "outputs": [
    {
     "data": {
      "text/plain": [
       "Segmentos                      object\n",
       "Type                           object\n",
       "Year                            int64\n",
       "Total exports million USD       int64\n",
       "Main exports destiny           object\n",
       "Value exports main partner      int64\n",
       "Partner share (%)             float64\n",
       "dtype: object"
      ]
     },
     "execution_count": 18,
     "metadata": {},
     "output_type": "execute_result"
    }
   ],
   "source": [
    "# Verificando quais colunas vou precisar converter\n",
    "df_Brazil_exports.dtypes"
   ]
  },
  {
   "cell_type": "code",
   "execution_count": 19,
   "metadata": {},
   "outputs": [],
   "source": [
    "# Quero alterar o nome da coluna Segmentos para o inglês\n",
    "df_Brazil_exports.rename(columns={\"Segmentos\": \"Segments\"}, inplace=\"True\")"
   ]
  },
  {
   "cell_type": "code",
   "execution_count": 20,
   "metadata": {},
   "outputs": [],
   "source": [
    "#Convertendo a colunar Year para datetime\n",
    "df_Brazil_exports[\"Year\"] = pd.to_datetime(df_Brazil_exports[\"Year\"])"
   ]
  },
  {
   "cell_type": "code",
   "execution_count": 21,
   "metadata": {},
   "outputs": [
    {
     "data": {
      "text/plain": [
       "Index(['Segments', 'Type', 'Year', 'Total Imports million U$S',\n",
       "       'Main imports origin', 'Value imports main partner',\n",
       "       'Partner share (%)'],\n",
       "      dtype='object')"
      ]
     },
     "execution_count": 21,
     "metadata": {},
     "output_type": "execute_result"
    }
   ],
   "source": [
    "# Explorando o último dataframe\n",
    "df_Brazil_imports.columns"
   ]
  },
  {
   "cell_type": "code",
   "execution_count": 22,
   "metadata": {},
   "outputs": [
    {
     "data": {
      "text/plain": [
       "Segments                       object\n",
       "Type                           object\n",
       "Year                            int64\n",
       "Total Imports million U$S     float64\n",
       "Main imports origin            object\n",
       "Value imports main partner      int64\n",
       "Partner share (%)             float64\n",
       "dtype: object"
      ]
     },
     "execution_count": 22,
     "metadata": {},
     "output_type": "execute_result"
    }
   ],
   "source": [
    "df_Brazil_imports.dtypes"
   ]
  },
  {
   "cell_type": "code",
   "execution_count": 23,
   "metadata": {},
   "outputs": [],
   "source": [
    "# Preciso converter Year de int para datetime\n",
    "df_Brazil_imports['Year'] = pd.to_datetime(df_Brazil_imports['Year'])"
   ]
  },
  {
   "cell_type": "code",
   "execution_count": 24,
   "metadata": {},
   "outputs": [],
   "source": [
    "#Agora irei unir os dataframes, desejo manter o máximo de informações possível, então vou fazer um merge outer\n",
    "df_Brazil_pharmaceuticals = pd.merge(df_Brazil_exports, df_Brazil_imports, how = \"outer\")"
   ]
  },
  {
   "cell_type": "code",
   "execution_count": 25,
   "metadata": {},
   "outputs": [
    {
     "data": {
      "text/plain": [
       "Index(['Segments', 'Type', 'Year', 'Total exports million USD',\n",
       "       'Main exports destiny', 'Value exports main partner',\n",
       "       'Partner share (%)', 'Total Imports million U$S', 'Main imports origin',\n",
       "       'Value imports main partner'],\n",
       "      dtype='object')"
      ]
     },
     "execution_count": 25,
     "metadata": {},
     "output_type": "execute_result"
    }
   ],
   "source": [
    "# Deu erro no merge final por causa da ausência de colunas com valores semelhantes, então vou voltei para verificar possibilidades de intersecção\n",
    "df_Brazil_pharmaceuticals.columns"
   ]
  },
  {
   "cell_type": "code",
   "execution_count": 26,
   "metadata": {},
   "outputs": [],
   "source": [
    "# Notei que preciso adicionar uma coluna para identificar os dados do Brasil\n",
    "df_Brazil_pharmaceuticals[\"COUNTRY\"] = \"Brazil\""
   ]
  },
  {
   "cell_type": "code",
   "execution_count": 27,
   "metadata": {},
   "outputs": [],
   "source": [
    "# Decidi alterar também o nome da coluna Year, para ficar igual ao da outra tabela\n",
    "df_Brazil_pharmaceuticals.rename(columns={\"Year\": \"YEAR\"}, inplace=\"True\")"
   ]
  },
  {
   "cell_type": "code",
   "execution_count": 28,
   "metadata": {},
   "outputs": [],
   "source": [
    "# Finalmente a intersecção entre todas as tabelas\n",
    "df_Pharmaceutical_market = pd.merge(df_Brazil_pharmaceuticals, df_Pharmaceutical_data, how=\"outer\")"
   ]
  },
  {
   "cell_type": "code",
   "execution_count": 29,
   "metadata": {},
   "outputs": [
    {
     "data": {
      "text/html": [
       "<div>\n",
       "<style scoped>\n",
       "    .dataframe tbody tr th:only-of-type {\n",
       "        vertical-align: middle;\n",
       "    }\n",
       "\n",
       "    .dataframe tbody tr th {\n",
       "        vertical-align: top;\n",
       "    }\n",
       "\n",
       "    .dataframe thead th {\n",
       "        text-align: right;\n",
       "    }\n",
       "</style>\n",
       "<table border=\"1\" class=\"dataframe\">\n",
       "  <thead>\n",
       "    <tr style=\"text-align: right;\">\n",
       "      <th></th>\n",
       "      <th>YEAR</th>\n",
       "      <th>Total exports million USD</th>\n",
       "      <th>Value exports main partner</th>\n",
       "      <th>Partner share (%)</th>\n",
       "      <th>Total Imports million U$S</th>\n",
       "      <th>Value imports main partner</th>\n",
       "      <th>VALUE</th>\n",
       "    </tr>\n",
       "  </thead>\n",
       "  <tbody>\n",
       "    <tr>\n",
       "      <th>count</th>\n",
       "      <td>223</td>\n",
       "      <td>51.000000</td>\n",
       "      <td>51.000000</td>\n",
       "      <td>101.000000</td>\n",
       "      <td>5.100000e+01</td>\n",
       "      <td>5.100000e+01</td>\n",
       "      <td>127.000000</td>\n",
       "    </tr>\n",
       "    <tr>\n",
       "      <th>mean</th>\n",
       "      <td>1970-01-01 00:00:00.000002020</td>\n",
       "      <td>110092.411765</td>\n",
       "      <td>22752.156863</td>\n",
       "      <td>0.302921</td>\n",
       "      <td>3.628574e+05</td>\n",
       "      <td>8.061020e+04</td>\n",
       "      <td>8141.767441</td>\n",
       "    </tr>\n",
       "    <tr>\n",
       "      <th>min</th>\n",
       "      <td>1970-01-01 00:00:00.000002017</td>\n",
       "      <td>1.000000</td>\n",
       "      <td>1.000000</td>\n",
       "      <td>0.107000</td>\n",
       "      <td>2.479000e+00</td>\n",
       "      <td>1.500000e+01</td>\n",
       "      <td>0.030000</td>\n",
       "    </tr>\n",
       "    <tr>\n",
       "      <th>25%</th>\n",
       "      <td>1970-01-01 00:00:00.000002020</td>\n",
       "      <td>189.000000</td>\n",
       "      <td>38.000000</td>\n",
       "      <td>0.210000</td>\n",
       "      <td>2.305000e+02</td>\n",
       "      <td>9.050000e+01</td>\n",
       "      <td>4.479000</td>\n",
       "    </tr>\n",
       "    <tr>\n",
       "      <th>50%</th>\n",
       "      <td>1970-01-01 00:00:00.000002020</td>\n",
       "      <td>17029.000000</td>\n",
       "      <td>5558.000000</td>\n",
       "      <td>0.269000</td>\n",
       "      <td>9.100000e+02</td>\n",
       "      <td>2.280000e+02</td>\n",
       "      <td>78.200000</td>\n",
       "    </tr>\n",
       "    <tr>\n",
       "      <th>75%</th>\n",
       "      <td>1970-01-01 00:00:00.000002021</td>\n",
       "      <td>73532.000000</td>\n",
       "      <td>22209.000000</td>\n",
       "      <td>0.330000</td>\n",
       "      <td>1.134970e+05</td>\n",
       "      <td>4.162150e+04</td>\n",
       "      <td>425.000000</td>\n",
       "    </tr>\n",
       "    <tr>\n",
       "      <th>max</th>\n",
       "      <td>1970-01-01 00:00:00.000002022</td>\n",
       "      <td>799762.000000</td>\n",
       "      <td>156420.000000</td>\n",
       "      <td>0.944000</td>\n",
       "      <td>6.689051e+06</td>\n",
       "      <td>1.304009e+06</td>\n",
       "      <td>180555.000000</td>\n",
       "    </tr>\n",
       "    <tr>\n",
       "      <th>std</th>\n",
       "      <td>NaN</td>\n",
       "      <td>205128.542042</td>\n",
       "      <td>39548.599033</td>\n",
       "      <td>0.138388</td>\n",
       "      <td>1.128619e+06</td>\n",
       "      <td>2.234440e+05</td>\n",
       "      <td>30492.875329</td>\n",
       "    </tr>\n",
       "  </tbody>\n",
       "</table>\n",
       "</div>"
      ],
      "text/plain": [
       "                                YEAR  Total exports million USD  \\\n",
       "count                            223                  51.000000   \n",
       "mean   1970-01-01 00:00:00.000002020              110092.411765   \n",
       "min    1970-01-01 00:00:00.000002017                   1.000000   \n",
       "25%    1970-01-01 00:00:00.000002020                 189.000000   \n",
       "50%    1970-01-01 00:00:00.000002020               17029.000000   \n",
       "75%    1970-01-01 00:00:00.000002021               73532.000000   \n",
       "max    1970-01-01 00:00:00.000002022              799762.000000   \n",
       "std                              NaN              205128.542042   \n",
       "\n",
       "       Value exports main partner  Partner share (%)  \\\n",
       "count                   51.000000         101.000000   \n",
       "mean                 22752.156863           0.302921   \n",
       "min                      1.000000           0.107000   \n",
       "25%                     38.000000           0.210000   \n",
       "50%                   5558.000000           0.269000   \n",
       "75%                  22209.000000           0.330000   \n",
       "max                 156420.000000           0.944000   \n",
       "std                  39548.599033           0.138388   \n",
       "\n",
       "       Total Imports million U$S  Value imports main partner          VALUE  \n",
       "count               5.100000e+01                5.100000e+01     127.000000  \n",
       "mean                3.628574e+05                8.061020e+04    8141.767441  \n",
       "min                 2.479000e+00                1.500000e+01       0.030000  \n",
       "25%                 2.305000e+02                9.050000e+01       4.479000  \n",
       "50%                 9.100000e+02                2.280000e+02      78.200000  \n",
       "75%                 1.134970e+05                4.162150e+04     425.000000  \n",
       "max                 6.689051e+06                1.304009e+06  180555.000000  \n",
       "std                 1.128619e+06                2.234440e+05   30492.875329  "
      ]
     },
     "execution_count": 29,
     "metadata": {},
     "output_type": "execute_result"
    }
   ],
   "source": [
    "# Verificando o dataframe final\n",
    "df_Pharmaceutical_market.describe()"
   ]
  },
  {
   "cell_type": "code",
   "execution_count": 30,
   "metadata": {},
   "outputs": [],
   "source": [
    "#Exportando o dataframe final\n",
    "df_Pharmaceutical_market.to_csv(\"FinalDataFramePharmaceuticalMarket.csv\")"
   ]
  },
  {
   "cell_type": "markdown",
   "metadata": {},
   "source": [
    "<b>Primeiras visualizações</b>"
   ]
  },
  {
   "cell_type": "markdown",
   "metadata": {},
   "source": [
    "<i><font color=\"green\">Quais são as condições da balança comercial em produtos de saúde para os países de interesse do estudo? Brasil, África do Sul, Índia, Argentina e México?</font></i>"
   ]
  },
  {
   "cell_type": "code",
   "execution_count": 31,
   "metadata": {},
   "outputs": [],
   "source": [
    "import matplotlib.pyplot as plt"
   ]
  },
  {
   "cell_type": "code",
   "execution_count": 32,
   "metadata": {},
   "outputs": [],
   "source": [
    "# Vou testar primeiro o do Brasil\n",
    "dataBrazil = df_Pharmaceutical_market[df_Pharmaceutical_market[\"COUNTRY\"] == \"Brazil\"]\n",
    "dataBrazil = dataBrazil[dataBrazil[\"YEAR\"] == \"1970-01-01 00:00:00.000002020\"]\n",
    "dataBrazil = dataBrazil[dataBrazil[\"Segments\"] == 'Total de Dispositivos Medicos (DMs)']"
   ]
  },
  {
   "cell_type": "code",
   "execution_count": 33,
   "metadata": {},
   "outputs": [
    {
     "data": {
      "text/plain": [
       "array(['Total de Dispositivos Medicos (DMs)'], dtype=object)"
      ]
     },
     "execution_count": 33,
     "metadata": {},
     "output_type": "execute_result"
    }
   ],
   "source": [
    "# Descobrindo que outros filtros fazer\n",
    "dataBrazil[\"Segments\"].unique()"
   ]
  },
  {
   "cell_type": "markdown",
   "metadata": {},
   "source": [
    "<i><font color=\"lightgreen\">Primeira Visualização: Exportações versus Importações de produtos médicos pelo Brasil em 2020, em milhões de dólares</font></i>"
   ]
  },
  {
   "cell_type": "code",
   "execution_count": 34,
   "metadata": {},
   "outputs": [
    {
     "data": {
      "image/png": "[encoded data removed]",
      "text/plain": [
       "<Figure size 640x480 with 1 Axes>"
      ]
     },
     "metadata": {},
     "output_type": "display_data"
    }
   ],
   "source": [
    "subtitle = [\"Total exportações (USD mill)\", \"Total importações (USD mill)\"]\n",
    "dataBrazil.plot(x=\"Type\", y=['Total exports million USD', 'Total Imports million U$S'], kind=\"bar\")\n",
    "plt.title(\"Exportações versus Importações brasileiras de dispositivos médicos em 2020\")\n",
    "plt.legend().remove()\n",
    "plt.xlabel('')\n",
    "plt.ylabel(\"Milhões de Dólares\")\n",
    "ticks, labels = plt.xticks()\n",
    "plt.xticks(ticks, labels = [\"Exportações\", \"Importações\"], rotation=0);"
   ]
  },
  {
   "cell_type": "markdown",
   "metadata": {},
   "source": [
    "<p><i><font color=\"gray\">Insights</i></font></p>\n",
    "Tal como previsto, o Brasil importa muito mais do que exporta produtos médicos, um indicativo da dependência externa. "
   ]
  },
  {
   "cell_type": "markdown",
   "metadata": {},
   "source": [
    "<i><font color=\"green\">Quais produtos são importados/exportados por cada país?</font></i>"
   ]
  },
  {
   "cell_type": "code",
   "execution_count": 35,
   "metadata": {},
   "outputs": [],
   "source": [
    "# Corrgindo o nome que identifiquei como errado abaixo\n",
    "df_Pharmaceutical_market['Segments'] = df_Pharmaceutical_market['Segments'].str.replace('MobiliÃ¡rio','Mobiliario')"
   ]
  },
  {
   "cell_type": "code",
   "execution_count": 36,
   "metadata": {},
   "outputs": [
    {
     "data": {
      "text/html": [
       "<div>\n",
       "<style scoped>\n",
       "    .dataframe tbody tr th:only-of-type {\n",
       "        vertical-align: middle;\n",
       "    }\n",
       "\n",
       "    .dataframe tbody tr th {\n",
       "        vertical-align: top;\n",
       "    }\n",
       "\n",
       "    .dataframe thead th {\n",
       "        text-align: right;\n",
       "    }\n",
       "</style>\n",
       "<table border=\"1\" class=\"dataframe\">\n",
       "  <thead>\n",
       "    <tr style=\"text-align: right;\">\n",
       "      <th></th>\n",
       "      <th>YEAR</th>\n",
       "      <th>Total exports million USD</th>\n",
       "      <th>Value exports main partner</th>\n",
       "      <th>Partner share (%)</th>\n",
       "      <th>Total Imports million U$S</th>\n",
       "      <th>Value imports main partner</th>\n",
       "      <th>VALUE</th>\n",
       "    </tr>\n",
       "  </thead>\n",
       "  <tbody>\n",
       "    <tr>\n",
       "      <th>count</th>\n",
       "      <td>33</td>\n",
       "      <td>17.000000</td>\n",
       "      <td>17.000000</td>\n",
       "      <td>33.000000</td>\n",
       "      <td>16.000000</td>\n",
       "      <td>16.000000</td>\n",
       "      <td>0.0</td>\n",
       "    </tr>\n",
       "    <tr>\n",
       "      <th>mean</th>\n",
       "      <td>1970-01-01 00:00:00.000002022</td>\n",
       "      <td>152688.352941</td>\n",
       "      <td>33195.470588</td>\n",
       "      <td>0.304970</td>\n",
       "      <td>729.687500</td>\n",
       "      <td>172.875000</td>\n",
       "      <td>NaN</td>\n",
       "    </tr>\n",
       "    <tr>\n",
       "      <th>min</th>\n",
       "      <td>1970-01-01 00:00:00.000002022</td>\n",
       "      <td>1333.000000</td>\n",
       "      <td>808.000000</td>\n",
       "      <td>0.107000</td>\n",
       "      <td>43.000000</td>\n",
       "      <td>20.000000</td>\n",
       "      <td>NaN</td>\n",
       "    </tr>\n",
       "    <tr>\n",
       "      <th>25%</th>\n",
       "      <td>1970-01-01 00:00:00.000002022</td>\n",
       "      <td>16299.000000</td>\n",
       "      <td>4847.000000</td>\n",
       "      <td>0.205000</td>\n",
       "      <td>139.250000</td>\n",
       "      <td>62.250000</td>\n",
       "      <td>NaN</td>\n",
       "    </tr>\n",
       "    <tr>\n",
       "      <th>50%</th>\n",
       "      <td>1970-01-01 00:00:00.000002022</td>\n",
       "      <td>72132.000000</td>\n",
       "      <td>18340.000000</td>\n",
       "      <td>0.255000</td>\n",
       "      <td>349.500000</td>\n",
       "      <td>111.000000</td>\n",
       "      <td>NaN</td>\n",
       "    </tr>\n",
       "    <tr>\n",
       "      <th>75%</th>\n",
       "      <td>1970-01-01 00:00:00.000002022</td>\n",
       "      <td>171173.000000</td>\n",
       "      <td>35528.000000</td>\n",
       "      <td>0.318000</td>\n",
       "      <td>671.500000</td>\n",
       "      <td>196.250000</td>\n",
       "      <td>NaN</td>\n",
       "    </tr>\n",
       "    <tr>\n",
       "      <th>max</th>\n",
       "      <td>1970-01-01 00:00:00.000002022</td>\n",
       "      <td>799762.000000</td>\n",
       "      <td>156420.000000</td>\n",
       "      <td>0.794000</td>\n",
       "      <td>3851.000000</td>\n",
       "      <td>839.000000</td>\n",
       "      <td>NaN</td>\n",
       "    </tr>\n",
       "    <tr>\n",
       "      <th>std</th>\n",
       "      <td>NaN</td>\n",
       "      <td>232813.991652</td>\n",
       "      <td>46850.735604</td>\n",
       "      <td>0.144131</td>\n",
       "      <td>1024.509555</td>\n",
       "      <td>205.054099</td>\n",
       "      <td>NaN</td>\n",
       "    </tr>\n",
       "  </tbody>\n",
       "</table>\n",
       "</div>"
      ],
      "text/plain": [
       "                                YEAR  Total exports million USD  \\\n",
       "count                             33                  17.000000   \n",
       "mean   1970-01-01 00:00:00.000002022              152688.352941   \n",
       "min    1970-01-01 00:00:00.000002022                1333.000000   \n",
       "25%    1970-01-01 00:00:00.000002022               16299.000000   \n",
       "50%    1970-01-01 00:00:00.000002022               72132.000000   \n",
       "75%    1970-01-01 00:00:00.000002022              171173.000000   \n",
       "max    1970-01-01 00:00:00.000002022              799762.000000   \n",
       "std                              NaN              232813.991652   \n",
       "\n",
       "       Value exports main partner  Partner share (%)  \\\n",
       "count                   17.000000          33.000000   \n",
       "mean                 33195.470588           0.304970   \n",
       "min                    808.000000           0.107000   \n",
       "25%                   4847.000000           0.205000   \n",
       "50%                  18340.000000           0.255000   \n",
       "75%                  35528.000000           0.318000   \n",
       "max                 156420.000000           0.794000   \n",
       "std                  46850.735604           0.144131   \n",
       "\n",
       "       Total Imports million U$S  Value imports main partner  VALUE  \n",
       "count                  16.000000                   16.000000    0.0  \n",
       "mean                  729.687500                  172.875000    NaN  \n",
       "min                    43.000000                   20.000000    NaN  \n",
       "25%                   139.250000                   62.250000    NaN  \n",
       "50%                   349.500000                  111.000000    NaN  \n",
       "75%                   671.500000                  196.250000    NaN  \n",
       "max                  3851.000000                  839.000000    NaN  \n",
       "std                  1024.509555                  205.054099    NaN  "
      ]
     },
     "execution_count": 36,
     "metadata": {},
     "output_type": "execute_result"
    }
   ],
   "source": [
    "# Vou verificar quais produtos o Brasil importa\n",
    "prodsBrazil = df_Pharmaceutical_market[df_Pharmaceutical_market[\"COUNTRY\"] == \"Brazil\"]\n",
    "prodsBrazil = prodsBrazil[prodsBrazil[\"YEAR\"] == \"1970-01-01 00:00:00.000002022\"]\n",
    "prodsBrazil = prodsBrazil[prodsBrazil[\"Total Imports million U$S\"] != None]\n",
    "prodsBrazil = prodsBrazil[prodsBrazil[\"Segments\"] != \"Total de Dispositivos medicos (DMs)\"]\n",
    "prodsBrazil.describe()\n"
   ]
  },
  {
   "cell_type": "code",
   "execution_count": 37,
   "metadata": {},
   "outputs": [
    {
     "data": {
      "text/plain": [
       "array(['Total de Dispositivos Medicos (DMs)',\n",
       "       'Materiais e equipamentos para a saude', 'Audiologia',\n",
       "       'Cardiovascular',\n",
       "       'Demais equip. de uso hospitalar - inclusive laser 59107',\n",
       "       'Diagnostico por imagem e seus insumos',\n",
       "       'Equip. e material de apoio - OPME',\n",
       "       'Equipamentos de Protecao Individual (EPIs)',\n",
       "       'Equipamentos para laboratorio',\n",
       "       'Materiais e aparelhos para odontologia',\n",
       "       'Materiais e suprimentos',\n",
       "       'Mobiliario para uso odonto/medico/hospitalar', 'Oftalmologia',\n",
       "       'OPME', 'Ortopedia', 'Reagentes para IVD',\n",
       "       'Equipamentos e analisadores para IVD',\n",
       "       'Demais equip. de uso hospitalar - inclusive laser'], dtype=object)"
      ]
     },
     "execution_count": 37,
     "metadata": {},
     "output_type": "execute_result"
    }
   ],
   "source": [
    "prodsBrazil[\"Segments\"].unique()\n",
    "# Identifiquei que tem um produto com nome errado"
   ]
  },
  {
   "cell_type": "code",
   "execution_count": 38,
   "metadata": {},
   "outputs": [
    {
     "data": {
      "text/plain": [
       "Index(['Segments', 'Type', 'YEAR', 'Total exports million USD',\n",
       "       'Main exports destiny', 'Value exports main partner',\n",
       "       'Partner share (%)', 'Total Imports million U$S', 'Main imports origin',\n",
       "       'Value imports main partner', 'COUNTRY', 'DESCRIPTION', 'VALUE',\n",
       "       'PARTNER', 'SOURCE'],\n",
       "      dtype='object')"
      ]
     },
     "execution_count": 38,
     "metadata": {},
     "output_type": "execute_result"
    }
   ],
   "source": [
    "prodsBrazil.columns"
   ]
  },
  {
   "cell_type": "code",
   "execution_count": 39,
   "metadata": {},
   "outputs": [],
   "source": [
    "# Tem muitos valores no gráfico, então quero pegar o top de produtos\n",
    "prodsBrazil.sort_values(by=\"Total Imports million U$S\", ascending=False, inplace=True)\n",
    "prodsBrazil.reset_index(inplace=True)\n",
    "prodsBrazil = prodsBrazil[0:16]"
   ]
  },
  {
   "cell_type": "markdown",
   "metadata": {},
   "source": [
    "<i><font color=\"lightgreen\">Segunda visualização: Importações brasileiras de produtos médicos em milhões de dólares (2022)</font></i>"
   ]
  },
  {
   "cell_type": "code",
   "execution_count": 40,
   "metadata": {},
   "outputs": [
    {
     "data": {
      "image/png": "[encoded data removed]",
      "text/plain": [
       "<Figure size 640x480 with 1 Axes>"
      ]
     },
     "metadata": {},
     "output_type": "display_data"
    }
   ],
   "source": [
    "prodsBrazil.plot(x=\"Segments\", y=\"Total Imports million U$S\", kind=\"bar\")\n",
    "plt.legend().remove()\n",
    "plt.xlabel(\"\")\n",
    "plt.title(\"Importações brasileiras de insumos médicos em milhões de dólares (2022)\");"
   ]
  },
  {
   "cell_type": "markdown",
   "metadata": {},
   "source": [
    "<p><i><font color=\"gray\">Insights</i></font></p>\n",
    "O Brasil é bastante dependente (top 5) em materiais e equipamentos em geral, reagentes e equipamentos de IVD, equipamentos hospitalares, OPME, equipamentos para diagnóstico por imagem e seus insumos. "
   ]
  },
  {
   "cell_type": "markdown",
   "metadata": {},
   "source": [
    "<i><font color=\"green\">Qual é a capacidade produtiva de IFA (Ingrediente Farmacêutico Ativo) de cada país?</font></i>"
   ]
  },
  {
   "cell_type": "code",
   "execution_count": 41,
   "metadata": {},
   "outputs": [
    {
     "data": {
      "text/html": [
       "<div>\n",
       "<style scoped>\n",
       "    .dataframe tbody tr th:only-of-type {\n",
       "        vertical-align: middle;\n",
       "    }\n",
       "\n",
       "    .dataframe tbody tr th {\n",
       "        vertical-align: top;\n",
       "    }\n",
       "\n",
       "    .dataframe thead th {\n",
       "        text-align: right;\n",
       "    }\n",
       "</style>\n",
       "<table border=\"1\" class=\"dataframe\">\n",
       "  <thead>\n",
       "    <tr style=\"text-align: right;\">\n",
       "      <th></th>\n",
       "      <th>Segments</th>\n",
       "      <th>Type</th>\n",
       "      <th>YEAR</th>\n",
       "      <th>Total exports million USD</th>\n",
       "      <th>Main exports destiny</th>\n",
       "      <th>Value exports main partner</th>\n",
       "      <th>Partner share (%)</th>\n",
       "      <th>Total Imports million U$S</th>\n",
       "      <th>Main imports origin</th>\n",
       "      <th>Value imports main partner</th>\n",
       "      <th>COUNTRY</th>\n",
       "      <th>DESCRIPTION</th>\n",
       "      <th>VALUE</th>\n",
       "      <th>PARTNER</th>\n",
       "      <th>SOURCE</th>\n",
       "    </tr>\n",
       "  </thead>\n",
       "  <tbody>\n",
       "    <tr>\n",
       "      <th>207</th>\n",
       "      <td>NaN</td>\n",
       "      <td>NaN</td>\n",
       "      <td>NaT</td>\n",
       "      <td>NaN</td>\n",
       "      <td>NaN</td>\n",
       "      <td>NaN</td>\n",
       "      <td>NaN</td>\n",
       "      <td>NaN</td>\n",
       "      <td>NaN</td>\n",
       "      <td>NaN</td>\n",
       "      <td>Brazil</td>\n",
       "      <td>API production</td>\n",
       "      <td>124.0</td>\n",
       "      <td>NaN</td>\n",
       "      <td>NaN</td>\n",
       "    </tr>\n",
       "    <tr>\n",
       "      <th>210</th>\n",
       "      <td>NaN</td>\n",
       "      <td>NaN</td>\n",
       "      <td>NaT</td>\n",
       "      <td>NaN</td>\n",
       "      <td>NaN</td>\n",
       "      <td>NaN</td>\n",
       "      <td>NaN</td>\n",
       "      <td>NaN</td>\n",
       "      <td>NaN</td>\n",
       "      <td>NaN</td>\n",
       "      <td>India</td>\n",
       "      <td>API production</td>\n",
       "      <td>500.0</td>\n",
       "      <td>NaN</td>\n",
       "      <td>NaN</td>\n",
       "    </tr>\n",
       "  </tbody>\n",
       "</table>\n",
       "</div>"
      ],
      "text/plain": [
       "    Segments Type YEAR  Total exports million USD Main exports destiny  \\\n",
       "207      NaN  NaN  NaT                        NaN                  NaN   \n",
       "210      NaN  NaN  NaT                        NaN                  NaN   \n",
       "\n",
       "     Value exports main partner  Partner share (%)  Total Imports million U$S  \\\n",
       "207                         NaN                NaN                        NaN   \n",
       "210                         NaN                NaN                        NaN   \n",
       "\n",
       "    Main imports origin  Value imports main partner COUNTRY     DESCRIPTION  \\\n",
       "207                 NaN                         NaN  Brazil  API production   \n",
       "210                 NaN                         NaN   India  API production   \n",
       "\n",
       "     VALUE PARTNER SOURCE  \n",
       "207  124.0     NaN    NaN  \n",
       "210  500.0     NaN    NaN  "
      ]
     },
     "execution_count": 41,
     "metadata": {},
     "output_type": "execute_result"
    }
   ],
   "source": [
    "# Lembro que só consegui dados sobre a produção de IFA em dois países: Brasil e India\n",
    "APIprod = df_Pharmaceutical_market[df_Pharmaceutical_market[\"DESCRIPTION\"] == \"API production\"]\n",
    "APIprod = APIprod[APIprod[\"COUNTRY\"] != \"Several\"]\n",
    "APIprod"
   ]
  },
  {
   "cell_type": "markdown",
   "metadata": {},
   "source": [
    "<i><font color=\"lightgreen\">Terceira visualização: comparação Brasil e India na produção de API</font></i>"
   ]
  },
  {
   "cell_type": "code",
   "execution_count": 42,
   "metadata": {},
   "outputs": [
    {
     "data": {
      "image/png": "[encoded data removed]",
      "text/plain": [
       "<Figure size 640x480 with 1 Axes>"
      ]
     },
     "metadata": {},
     "output_type": "display_data"
    }
   ],
   "source": [
    "APIprod.plot(x=\"COUNTRY\", y=\"VALUE\", kind=\"bar\")\n",
    "plt.legend().remove()\n",
    "plt.xlabel(\"\")\n",
    "plt.title(\"Comparação entre produção atual de IFA no Brasil e na Índia\")\n",
    "ticks, labels = plt.xticks()\n",
    "plt.xticks(ticks, labels = [\"Brasil\", \"India\"], rotation=0);"
   ]
  },
  {
   "cell_type": "markdown",
   "metadata": {},
   "source": [
    "<p><i><font color=\"gray\">Insights</i></font></p>\n",
    "A India produz mais do que o dobro de IFAs que o Brasil, portanto é um potencial parceiro interessante para investigar formas de haver transferência de tecnologia. "
   ]
  },
  {
   "cell_type": "markdown",
   "metadata": {},
   "source": [
    "## Conclusões\n",
    "Desejo preencher algumas lacunas nos dados antes de gerar as visualizações finais no Tableau, mas já é possível identificar quais são as principais necessidades do Brasil na cooperação internacional em insumos médicos assim como potenciais parceiros. Na próxima fase, pretendo explorar mais os dados da India e dos demais países, assim como gerar visualizações mais sofisticadas. "
   ]
  }
 ],
 "metadata": {
  "kernelspec": {
   "display_name": "Python 3",
   "language": "python",
   "name": "python3"
  },
  "language_info": {
   "codemirror_mode": {
    "name": "ipython",
    "version": 3
   },
   "file_extension": ".py",
   "mimetype": "text/x-python",
   "name": "python",
   "nbconvert_exporter": "python",
   "pygments_lexer": "ipython3",
   "version": "3.11.4"
  }
 },
 "nbformat": 4,
 "nbformat_minor": 2
}
